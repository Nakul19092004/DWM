{
  "nbformat": 4,
  "nbformat_minor": 0,
  "metadata": {
    "colab": {
      "provenance": []
    },
    "kernelspec": {
      "name": "python3",
      "display_name": "Python 3"
    },
    "language_info": {
      "name": "python"
    }
  },
  "cells": [
    {
      "cell_type": "code",
      "execution_count": null,
      "metadata": {
        "id": "HoljN-lO-7b4"
      },
      "outputs": [],
      "source": []
    },
    {
      "cell_type": "code",
      "source": [
        "\n",
        "\n",
        "from mlxtend.frequent_patterns import apriori, association_rules\n",
        "import pandas as pd\n",
        "\n",
        "dataset = [\n",
        "['Milk', 'Bread', 'Nutella'],\n",
        "['Milk', 'Diaper', 'Beer', 'Eggs'],\n",
        "['Milk', 'Bread', 'Diaper', 'Beer'],\n",
        "['Bread', 'Diaper', 'Beer'],\n",
        "['Milk', 'Bread', 'Diaper', 'Nutella']\n",
        "]\n",
        "\n",
        "items = sorted(set(item for transaction in dataset for item in transaction))\n",
        "df = pd.DataFrame([{item: (item in transaction) for item in items} for transaction in dataset])\n",
        "\n",
        "min_support = 0.5\n",
        "frequent_itemsets = apriori(df, min_support=min_support, use_colnames=True)\n",
        "\n",
        "min_confidence = 0.7\n",
        "rules = association_rules(frequent_itemsets, metric=\"confidence\", min_threshold=min_confidence)\n",
        "\n",
        "print(\"Frequent Itemsets:\")\n",
        "print(frequent_itemsets)\n",
        "print(\"\\nAssociation Rules:\")\n",
        "print(rules[['antecedents', 'consequents', 'support', 'confidence', 'lift']])\n"
      ],
      "metadata": {
        "colab": {
          "base_uri": "https://localhost:8080/"
        },
        "id": "PDpLbZ_Y_xbW",
        "outputId": "21c12ba1-813c-49f2-95a0-f603973e221b"
      },
      "execution_count": 5,
      "outputs": [
        {
          "output_type": "stream",
          "name": "stdout",
          "text": [
            "Frequent Itemsets:\n",
            "   support         itemsets\n",
            "0      0.6           (Beer)\n",
            "1      0.8          (Bread)\n",
            "2      0.8         (Diaper)\n",
            "3      0.8           (Milk)\n",
            "4      0.6   (Beer, Diaper)\n",
            "5      0.6  (Diaper, Bread)\n",
            "6      0.6    (Bread, Milk)\n",
            "7      0.6   (Diaper, Milk)\n",
            "\n",
            "Association Rules:\n",
            "  antecedents consequents  support  confidence    lift\n",
            "0      (Beer)    (Diaper)      0.6        1.00  1.2500\n",
            "1    (Diaper)      (Beer)      0.6        0.75  1.2500\n",
            "2    (Diaper)     (Bread)      0.6        0.75  0.9375\n",
            "3     (Bread)    (Diaper)      0.6        0.75  0.9375\n",
            "4     (Bread)      (Milk)      0.6        0.75  0.9375\n",
            "5      (Milk)     (Bread)      0.6        0.75  0.9375\n",
            "6    (Diaper)      (Milk)      0.6        0.75  0.9375\n",
            "7      (Milk)    (Diaper)      0.6        0.75  0.9375\n"
          ]
        }
      ]
    },
    {
      "cell_type": "markdown",
      "source": [],
      "metadata": {
        "id": "pq33JXTC_80y"
      }
    }
  ]
}